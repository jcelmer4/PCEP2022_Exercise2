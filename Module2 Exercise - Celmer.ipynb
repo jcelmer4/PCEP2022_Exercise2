{
 "cells": [
  {
   "cell_type": "markdown",
   "metadata": {},
   "source": [
    "## Exercises\n",
    "### Write the pseudocode for these problems. \n",
    "\n",
    "#### Define the problem by constructing an IPO diagram showing input, output, and processing steps\n",
    "Ask yourself\n",
    "- What control structures (sequence, selection and repetition) are required?\n",
    "- What variables are required?\n",
    "\n",
    "Show a check of your solution with **test data** for at least **two valid test cases**\n",
    "If you use the numbers provided in the example then the correct pseudocode will calculate the same result.\n",
    "    "
   ]
  },
  {
   "cell_type": "markdown",
   "metadata": {},
   "source": [
    "#### 1. Find the average score\n",
    "A program is needed to prompt the user operator for exam scores, calculate the average score and display the result to the screen. The average score is calculated as the sum of the scores divided by the number of scores."
   ]
  },
  {
   "cell_type": "markdown",
   "metadata": {},
   "source": [
    "BEGIN\n",
    "\n",
    "    Set Counter to 0\n",
    "    Set Total to 0\n",
    "    \n",
    "    Loop > 0\n",
    "        Prompt User for exam score\n",
    "        Get exam score\n",
    "        Add exam score to total\n",
    "        Add 1 to Counter  \n",
    "        \n",
    "        Average = Total/Counter\n",
    "        Print Average\n",
    "\n",
    "    EndLoop\n",
    "END"
   ]
  },
  {
   "cell_type": "markdown",
   "metadata": {},
   "source": [
    "#### 2. How much water runs off a roof in a rain storm?\n",
    "To calculate the runoff from any given rainfall: Take the dimensions of the footprint of the roof and convert them to inches. (So, a 50' x 20' roof is 600\" x 240\"). Multiply the roof dimensions by the number of inches of rainfall. As an example, 600\" x 240\" x 1\" = 144,000 cubic inches of water for an inch of rainfall. Divide that result by 231 to get the number of gallons (because 1 gallon = 231 cubic inches). (144,000/231 = 623.38)."
   ]
  },
  {
   "cell_type": "markdown",
   "metadata": {},
   "source": [
    "BEGIN\n",
    "\n",
    "    Prompt User for Length in feet\n",
    "    User enters Length\n",
    "    Prompt User for Width in feet\n",
    "    User enters Width\n",
    "    Prompt User for Number of inches of rain\n",
    "    User enters Number of inches of rain\n",
    "        \n",
    "        Length_Inch = Length * 12\n",
    "        Width_Inch = Width * 12\n",
    "        CubicWater_Inch = Length_Inch * Width_Inch * Number of inches of rain\n",
    "        \n",
    "        CubicWater_Gallons =  CubicWater_Inch/231\n",
    "        \n",
    "        Print CubicWater_Gallons\n",
    "\n",
    "END    \n",
    "        \n",
    "\n",
    "TEST------------\n",
    "\n",
    "Lenth entered = 30'\n",
    "Width entered = 15'\n",
    "Number of Inches of rain = 2\"\n",
    "\n",
    "    Length_Inch = 30 * 12\n",
    "    Width_Inch = 15 * 12\n",
    "\n",
    "    CubicWater_Inch = Length_Inch (360) * Width_inch (180) * Number of Inches of rain (2)\n",
    "    \n",
    "    CubicWater_Gallons = CubicWater_Inch (129,600)/231\n",
    "    \n",
    "    Print CubicWater_Gallons (56)\n",
    "   "
   ]
  },
  {
   "cell_type": "markdown",
   "metadata": {},
   "source": [
    "#### 3. Process customer record\n",
    "A program is required to read a customer’s name, a purchase amount and a tax code. The tax code has been validated and will be one of the following: 0 tax exempt (0%) 1 state sales tax only (3%) 2 federal and state sales tax (5%) 3 special sales tax (7%) The program must then compute the sales tax and the total amount due,and print the customer’s name, purchase amount, sales tax and total amount due."
   ]
  },
  {
   "cell_type": "markdown",
   "metadata": {},
   "source": [
    "BEGIN\n",
    "    \n",
    "    Prompt User for Name\n",
    "    User enters Name\n",
    "    Prompt User for Purchase Amount\n",
    "    User enters Purchase Amount\n",
    "    Prompt User for Tax Code\n",
    "    User enters Tax Code\n",
    "    \n",
    "        IF Tax Code =  0\n",
    "            Tax = 0.0\n",
    "            Sale Tax Amount = Purchase Amount * Tax\n",
    "            Total Due = Purchase Amount + Sale Tax Amount\n",
    "        \n",
    "        Else IF Tax Code = 1\n",
    "            Tax = 0.03\n",
    "            Sale Tax Amount = Purchase Amount * Tax\n",
    "            Total Due = Purchase Amount + Sale Tax Amount\n",
    "        \n",
    "        Else IF Tax Code = 2\n",
    "            Tax = 0.05\n",
    "            Sale Tax Amount = Purchase Amount * Tax\n",
    "            Total Due = Purchase Amount + Sale Tax Amount\n",
    "        \n",
    "        Else IF Tax Code = 3\n",
    "            Tax = 0.07\n",
    "            Sale Tax Amount = Purchase Amount * Tax\n",
    "            Total Due = Purchase Amount + Sale Tax Amount\n",
    "        \n",
    "            \n",
    "        END IF\n",
    "        \n",
    "    Print Name\n",
    "    Print Purchase Amount\n",
    "    Print Sale Tax Amount\n",
    "    Print Total Due\n",
    "    \n",
    " END\n",
    " \n",
    " TEST------------------------\n",
    " \n",
    " Name: John Celmer\n",
    " Purchase Amount: $100.00\n",
    " Tax Code: 3\n",
    " \n",
    " Run Program\n",
    " \n",
    " Sale Tax Amount = Purchase Amount (100.00) *  Tax (0.07)\n",
    " Total Due = Purchase Amount(100.00) + Sale Tax AMount (7.00)\n",
    " \n",
    " Print\n",
    " John Celmer\n",
    " $100.00\n",
    " $7.00\n",
    " $107.00\n"
   ]
  },
  {
   "cell_type": "markdown",
   "metadata": {},
   "source": [
    "#### 4. Calculate employee's pay \n",
    "A program is required by a company to read an employee’s number, pay rate and the number of hours worked in a week. The program is then to validate the pay rate field and the hours worked field and, if valid, compute the employee’s weekly pay and then print it and the input data.\n",
    "\n",
    "Validation: According to the company’s rules, the maximum hours an employee can work per week is 60 hours, and the maximum hourly rate is $25.00 per hour. If the hours worked field or the hourly rate field is out of range, the input data and an appropriate message are to be printed and the employee’s weekly pay is not to be calculated.\n",
    "\n",
    "Weekly pay calculation: Weekly pay is calculated as hours worked times pay rate. If more than 35 hours are worked, payment for the overtime hours worked is calculated at time-and-a-half."
   ]
  },
  {
   "cell_type": "markdown",
   "metadata": {},
   "source": [
    "BEGIN\n",
    "\n",
    "   \n",
    "        Prompt input of Employee Number\n",
    "        Prompt input of Pay Rate\n",
    "        Prompt input of Hours Worked\n",
    "    \n",
    "            If Hours Worked <= 35 AND Pay Rate <=25\n",
    "            \n",
    "                Weekly Pay = Hours Worked * Pay Rate\n",
    "                \n",
    "                Print Employee Number\n",
    "                Print Pay Rate\n",
    "                Print Hours Worked\n",
    "                Print Weekly Pay\n",
    "    \n",
    "    \n",
    "            Else If Hours Worked > 35  AND  Hours Worked < 60 AND Pay Rate <=25\n",
    "            \n",
    "                Weekly Pay = Hours Worked * (Pay Rate*1.5)\n",
    "                \n",
    "                Print Employee Number\n",
    "                Print Pay Rate\n",
    "                Print Hours Worked\n",
    "                Print Weekly Pay\n",
    "        \n",
    "            Else If Hours Worked >= 60 OR Pay Rate > 25\n",
    "            \n",
    "                Print Employee Number\n",
    "                Print Pay Rate\n",
    "                Print Hours Worked\n",
    "                Print \"Weekly pay could not be Calculated\"\n",
    "            \n",
    " \n",
    "\n",
    "END"
   ]
  },
  {
   "cell_type": "code",
   "execution_count": null,
   "metadata": {},
   "outputs": [],
   "source": []
  }
 ],
 "metadata": {
  "kernelspec": {
   "display_name": "Python 3 (ipykernel)",
   "language": "python",
   "name": "python3"
  },
  "language_info": {
   "codemirror_mode": {
    "name": "ipython",
    "version": 3
   },
   "file_extension": ".py",
   "mimetype": "text/x-python",
   "name": "python",
   "nbconvert_exporter": "python",
   "pygments_lexer": "ipython3",
   "version": "3.9.12"
  }
 },
 "nbformat": 4,
 "nbformat_minor": 2
}
